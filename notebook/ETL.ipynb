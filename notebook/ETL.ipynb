{
 "cells": [
  {
   "cell_type": "code",
   "execution_count": 1,
   "id": "9b5d09a6-1835-40eb-8d74-7e18ee859fc8",
   "metadata": {},
   "outputs": [
    {
     "name": "stdout",
     "output_type": "stream",
     "text": [
      "Fala\n"
     ]
    }
   ],
   "source": [
    "print(\"Fala\")"
   ]
  },
  {
   "cell_type": "code",
   "execution_count": 2,
   "id": "8dcedd15-0df0-473c-a485-f9482964fc32",
   "metadata": {},
   "outputs": [],
   "source": [
    "import pandas as pd"
   ]
  },
  {
   "cell_type": "markdown",
   "id": "bccaab4c",
   "metadata": {},
   "source": [
    "# Análise do CSV _pessoas_completo_"
   ]
  },
  {
   "cell_type": "code",
   "execution_count": 3,
   "id": "8759d0fc-5f26-4675-9b89-6f205cfc7129",
   "metadata": {},
   "outputs": [],
   "source": [
    "df = pd.read_csv(\"../data/pessoas_completo.csv\")"
   ]
  },
  {
   "cell_type": "code",
   "execution_count": 52,
   "id": "e75b1549-fcbe-4dd2-ba09-95c95b9d2eb1",
   "metadata": {},
   "outputs": [
    {
     "name": "stdout",
     "output_type": "stream",
     "text": [
      "<class 'pandas.core.frame.DataFrame'>\n",
      "Int64Index: 1030380 entries, 0 to 1030386\n",
      "Data columns (total 16 columns):\n",
      " #   Column               Non-Null Count    Dtype \n",
      "---  ------               --------------    ----- \n",
      " 0   id_sinistro          1030380 non-null  int64 \n",
      " 1   municipio            1030380 non-null  object\n",
      " 2   tipo_via             1030380 non-null  object\n",
      " 3   tipo_veiculo_vitima  58157 non-null    object\n",
      " 4   sexo                 1030380 non-null  object\n",
      " 5   idade                1030380 non-null  Int64 \n",
      " 6   gravidade_lesao      1030380 non-null  object\n",
      " 7   tipo_vitima          1030380 non-null  object\n",
      " 8   faixa_etaria_legal   1030380 non-null  object\n",
      " 9   profissao            1030380 non-null  object\n",
      " 10  ano_sinistro         1030380 non-null  int64 \n",
      " 11  mes_sinistro         1030380 non-null  object\n",
      " 12  dia_sinistro         1030380 non-null  int64 \n",
      " 13  ano_obito            58157 non-null    Int64 \n",
      " 14  mes_obito            58157 non-null    object\n",
      " 15  dia_obito            58157 non-null    Int64 \n",
      "dtypes: Int64(3), int64(3), object(10)\n",
      "memory usage: 168.8+ MB\n"
     ]
    }
   ],
   "source": [
    "df.info()"
   ]
  },
  {
   "cell_type": "code",
   "execution_count": 5,
   "id": "6e842e51-0f41-4839-8808-3079ca3388c6",
   "metadata": {},
   "outputs": [
    {
     "data": {
      "text/html": [
       "<div>\n",
       "<style scoped>\n",
       "    .dataframe tbody tr th:only-of-type {\n",
       "        vertical-align: middle;\n",
       "    }\n",
       "\n",
       "    .dataframe tbody tr th {\n",
       "        vertical-align: top;\n",
       "    }\n",
       "\n",
       "    .dataframe thead th {\n",
       "        text-align: right;\n",
       "    }\n",
       "</style>\n",
       "<table border=\"1\" class=\"dataframe\">\n",
       "  <thead>\n",
       "    <tr style=\"text-align: right;\">\n",
       "      <th></th>\n",
       "      <th>id_sinistro</th>\n",
       "      <th>idade</th>\n",
       "      <th>ano_sinistro</th>\n",
       "      <th>mes_sinistro</th>\n",
       "      <th>dia_sinistro</th>\n",
       "      <th>ano_obito</th>\n",
       "      <th>mes_obito</th>\n",
       "      <th>dia_obito</th>\n",
       "    </tr>\n",
       "  </thead>\n",
       "  <tbody>\n",
       "    <tr>\n",
       "      <th>count</th>\n",
       "      <td>1.030387e+06</td>\n",
       "      <td>1.013700e+06</td>\n",
       "      <td>1.030387e+06</td>\n",
       "      <td>1.030387e+06</td>\n",
       "      <td>1.030387e+06</td>\n",
       "      <td>58157.000000</td>\n",
       "      <td>58157.000000</td>\n",
       "      <td>58157.000000</td>\n",
       "    </tr>\n",
       "    <tr>\n",
       "      <th>mean</th>\n",
       "      <td>1.943842e+06</td>\n",
       "      <td>3.444966e+01</td>\n",
       "      <td>2.021658e+03</td>\n",
       "      <td>6.499242e+00</td>\n",
       "      <td>1.560665e+01</td>\n",
       "      <td>2019.789501</td>\n",
       "      <td>6.497257</td>\n",
       "      <td>15.580119</td>\n",
       "    </tr>\n",
       "    <tr>\n",
       "      <th>std</th>\n",
       "      <td>3.947906e+05</td>\n",
       "      <td>1.510009e+01</td>\n",
       "      <td>2.027790e+00</td>\n",
       "      <td>3.376548e+00</td>\n",
       "      <td>8.735699e+00</td>\n",
       "      <td>3.169683</td>\n",
       "      <td>3.378640</td>\n",
       "      <td>8.779323</td>\n",
       "    </tr>\n",
       "    <tr>\n",
       "      <th>min</th>\n",
       "      <td>1.256212e+06</td>\n",
       "      <td>0.000000e+00</td>\n",
       "      <td>2.014000e+03</td>\n",
       "      <td>1.000000e+00</td>\n",
       "      <td>1.000000e+00</td>\n",
       "      <td>2015.000000</td>\n",
       "      <td>1.000000</td>\n",
       "      <td>1.000000</td>\n",
       "    </tr>\n",
       "    <tr>\n",
       "      <th>25%</th>\n",
       "      <td>1.602038e+06</td>\n",
       "      <td>2.300000e+01</td>\n",
       "      <td>2.020000e+03</td>\n",
       "      <td>4.000000e+00</td>\n",
       "      <td>8.000000e+00</td>\n",
       "      <td>2017.000000</td>\n",
       "      <td>4.000000</td>\n",
       "      <td>8.000000</td>\n",
       "    </tr>\n",
       "    <tr>\n",
       "      <th>50%</th>\n",
       "      <td>1.943348e+06</td>\n",
       "      <td>3.100000e+01</td>\n",
       "      <td>2.022000e+03</td>\n",
       "      <td>6.000000e+00</td>\n",
       "      <td>1.600000e+01</td>\n",
       "      <td>2020.000000</td>\n",
       "      <td>6.000000</td>\n",
       "      <td>16.000000</td>\n",
       "    </tr>\n",
       "    <tr>\n",
       "      <th>75%</th>\n",
       "      <td>2.278146e+06</td>\n",
       "      <td>4.300000e+01</td>\n",
       "      <td>2.023000e+03</td>\n",
       "      <td>9.000000e+00</td>\n",
       "      <td>2.300000e+01</td>\n",
       "      <td>2023.000000</td>\n",
       "      <td>9.000000</td>\n",
       "      <td>23.000000</td>\n",
       "    </tr>\n",
       "    <tr>\n",
       "      <th>max</th>\n",
       "      <td>2.644715e+06</td>\n",
       "      <td>2.700000e+02</td>\n",
       "      <td>2.025000e+03</td>\n",
       "      <td>1.200000e+01</td>\n",
       "      <td>3.100000e+01</td>\n",
       "      <td>2025.000000</td>\n",
       "      <td>12.000000</td>\n",
       "      <td>31.000000</td>\n",
       "    </tr>\n",
       "  </tbody>\n",
       "</table>\n",
       "</div>"
      ],
      "text/plain": [
       "        id_sinistro         idade  ano_sinistro  mes_sinistro  dia_sinistro  \\\n",
       "count  1.030387e+06  1.013700e+06  1.030387e+06  1.030387e+06  1.030387e+06   \n",
       "mean   1.943842e+06  3.444966e+01  2.021658e+03  6.499242e+00  1.560665e+01   \n",
       "std    3.947906e+05  1.510009e+01  2.027790e+00  3.376548e+00  8.735699e+00   \n",
       "min    1.256212e+06  0.000000e+00  2.014000e+03  1.000000e+00  1.000000e+00   \n",
       "25%    1.602038e+06  2.300000e+01  2.020000e+03  4.000000e+00  8.000000e+00   \n",
       "50%    1.943348e+06  3.100000e+01  2.022000e+03  6.000000e+00  1.600000e+01   \n",
       "75%    2.278146e+06  4.300000e+01  2.023000e+03  9.000000e+00  2.300000e+01   \n",
       "max    2.644715e+06  2.700000e+02  2.025000e+03  1.200000e+01  3.100000e+01   \n",
       "\n",
       "          ano_obito     mes_obito     dia_obito  \n",
       "count  58157.000000  58157.000000  58157.000000  \n",
       "mean    2019.789501      6.497257     15.580119  \n",
       "std        3.169683      3.378640      8.779323  \n",
       "min     2015.000000      1.000000      1.000000  \n",
       "25%     2017.000000      4.000000      8.000000  \n",
       "50%     2020.000000      6.000000     16.000000  \n",
       "75%     2023.000000      9.000000     23.000000  \n",
       "max     2025.000000     12.000000     31.000000  "
      ]
     },
     "execution_count": 5,
     "metadata": {},
     "output_type": "execute_result"
    }
   ],
   "source": [
    "df.describe()"
   ]
  },
  {
   "cell_type": "code",
   "execution_count": 53,
   "id": "c01e52ae-62c9-470b-81b4-191f7f9433c9",
   "metadata": {},
   "outputs": [
    {
     "data": {
      "text/html": [
       "<div>\n",
       "<style scoped>\n",
       "    .dataframe tbody tr th:only-of-type {\n",
       "        vertical-align: middle;\n",
       "    }\n",
       "\n",
       "    .dataframe tbody tr th {\n",
       "        vertical-align: top;\n",
       "    }\n",
       "\n",
       "    .dataframe thead th {\n",
       "        text-align: right;\n",
       "    }\n",
       "</style>\n",
       "<table border=\"1\" class=\"dataframe\">\n",
       "  <thead>\n",
       "    <tr style=\"text-align: right;\">\n",
       "      <th></th>\n",
       "      <th>id_sinistro</th>\n",
       "      <th>municipio</th>\n",
       "      <th>tipo_via</th>\n",
       "      <th>tipo_veiculo_vitima</th>\n",
       "      <th>sexo</th>\n",
       "      <th>idade</th>\n",
       "      <th>gravidade_lesao</th>\n",
       "      <th>tipo_vitima</th>\n",
       "      <th>faixa_etaria_legal</th>\n",
       "      <th>profissao</th>\n",
       "      <th>ano_sinistro</th>\n",
       "      <th>mes_sinistro</th>\n",
       "      <th>dia_sinistro</th>\n",
       "      <th>ano_obito</th>\n",
       "      <th>mes_obito</th>\n",
       "      <th>dia_obito</th>\n",
       "    </tr>\n",
       "  </thead>\n",
       "  <tbody>\n",
       "    <tr>\n",
       "      <th>0</th>\n",
       "      <td>2463323</td>\n",
       "      <td>SAO PAULO</td>\n",
       "      <td>VIAS MUNICIPAIS</td>\n",
       "      <td>PEDESTRE</td>\n",
       "      <td>MASCULINO</td>\n",
       "      <td>51</td>\n",
       "      <td>FATAL</td>\n",
       "      <td>PEDESTRE</td>\n",
       "      <td>50-54</td>\n",
       "      <td>DESCONHECIDA</td>\n",
       "      <td>2015</td>\n",
       "      <td>Janeiro</td>\n",
       "      <td>1</td>\n",
       "      <td>2015</td>\n",
       "      <td>Janeiro</td>\n",
       "      <td>1</td>\n",
       "    </tr>\n",
       "    <tr>\n",
       "      <th>1</th>\n",
       "      <td>2465127</td>\n",
       "      <td>SAO PAULO</td>\n",
       "      <td>VIAS MUNICIPAIS</td>\n",
       "      <td>PEDESTRE</td>\n",
       "      <td>MASCULINO</td>\n",
       "      <td>89</td>\n",
       "      <td>FATAL</td>\n",
       "      <td>PEDESTRE</td>\n",
       "      <td>80 ou mais</td>\n",
       "      <td>DESCONHECIDA</td>\n",
       "      <td>2015</td>\n",
       "      <td>Janeiro</td>\n",
       "      <td>3</td>\n",
       "      <td>2015</td>\n",
       "      <td>Janeiro</td>\n",
       "      <td>3</td>\n",
       "    </tr>\n",
       "    <tr>\n",
       "      <th>2</th>\n",
       "      <td>2462123</td>\n",
       "      <td>SAO PAULO</td>\n",
       "      <td>VIAS MUNICIPAIS</td>\n",
       "      <td>PEDESTRE</td>\n",
       "      <td>MASCULINO</td>\n",
       "      <td>67</td>\n",
       "      <td>FATAL</td>\n",
       "      <td>PEDESTRE</td>\n",
       "      <td>65-69</td>\n",
       "      <td>DESCONHECIDA</td>\n",
       "      <td>2015</td>\n",
       "      <td>Janeiro</td>\n",
       "      <td>5</td>\n",
       "      <td>2015</td>\n",
       "      <td>Janeiro</td>\n",
       "      <td>5</td>\n",
       "    </tr>\n",
       "    <tr>\n",
       "      <th>3</th>\n",
       "      <td>2506869</td>\n",
       "      <td>MOGI GUACU</td>\n",
       "      <td>VIAS MUNICIPAIS</td>\n",
       "      <td>NAO DISPONIVEL</td>\n",
       "      <td>IGNORADO</td>\n",
       "      <td>44</td>\n",
       "      <td>FATAL</td>\n",
       "      <td>NAO DISPONIVEL</td>\n",
       "      <td>40-44</td>\n",
       "      <td>DESCONHECIDA</td>\n",
       "      <td>2015</td>\n",
       "      <td>Janeiro</td>\n",
       "      <td>9</td>\n",
       "      <td>2015</td>\n",
       "      <td>Janeiro</td>\n",
       "      <td>9</td>\n",
       "    </tr>\n",
       "    <tr>\n",
       "      <th>4</th>\n",
       "      <td>2490194</td>\n",
       "      <td>COTIA</td>\n",
       "      <td>RODOVIAS</td>\n",
       "      <td>AUTOMOVEL</td>\n",
       "      <td>MASCULINO</td>\n",
       "      <td>28</td>\n",
       "      <td>FATAL</td>\n",
       "      <td>CONDUTOR</td>\n",
       "      <td>25-29</td>\n",
       "      <td>DESCONHECIDA</td>\n",
       "      <td>2015</td>\n",
       "      <td>Janeiro</td>\n",
       "      <td>11</td>\n",
       "      <td>2015</td>\n",
       "      <td>Janeiro</td>\n",
       "      <td>11</td>\n",
       "    </tr>\n",
       "  </tbody>\n",
       "</table>\n",
       "</div>"
      ],
      "text/plain": [
       "   id_sinistro   municipio         tipo_via tipo_veiculo_vitima       sexo  \\\n",
       "0      2463323   SAO PAULO  VIAS MUNICIPAIS            PEDESTRE  MASCULINO   \n",
       "1      2465127   SAO PAULO  VIAS MUNICIPAIS            PEDESTRE  MASCULINO   \n",
       "2      2462123   SAO PAULO  VIAS MUNICIPAIS            PEDESTRE  MASCULINO   \n",
       "3      2506869  MOGI GUACU  VIAS MUNICIPAIS      NAO DISPONIVEL   IGNORADO   \n",
       "4      2490194       COTIA         RODOVIAS           AUTOMOVEL  MASCULINO   \n",
       "\n",
       "   idade gravidade_lesao     tipo_vitima faixa_etaria_legal     profissao  \\\n",
       "0     51           FATAL        PEDESTRE              50-54  DESCONHECIDA   \n",
       "1     89           FATAL        PEDESTRE         80 ou mais  DESCONHECIDA   \n",
       "2     67           FATAL        PEDESTRE              65-69  DESCONHECIDA   \n",
       "3     44           FATAL  NAO DISPONIVEL              40-44  DESCONHECIDA   \n",
       "4     28           FATAL        CONDUTOR              25-29  DESCONHECIDA   \n",
       "\n",
       "   ano_sinistro mes_sinistro  dia_sinistro  ano_obito mes_obito  dia_obito  \n",
       "0          2015      Janeiro             1       2015   Janeiro          1  \n",
       "1          2015      Janeiro             3       2015   Janeiro          3  \n",
       "2          2015      Janeiro             5       2015   Janeiro          5  \n",
       "3          2015      Janeiro             9       2015   Janeiro          9  \n",
       "4          2015      Janeiro            11       2015   Janeiro         11  "
      ]
     },
     "execution_count": 53,
     "metadata": {},
     "output_type": "execute_result"
    }
   ],
   "source": [
    "df.head()"
   ]
  },
  {
   "cell_type": "code",
   "execution_count": 7,
   "id": "bbc2eb4a-a47c-4b77-b867-d203ed72e668",
   "metadata": {},
   "outputs": [
    {
     "data": {
      "text/plain": [
       "id_sinistro                 1030387\n",
       "municipio                   1030380\n",
       "tipo_via                    1030387\n",
       "tipo_veiculo_vitima           58157\n",
       "sexo                        1030387\n",
       "idade                       1013700\n",
       "data_obito                    58157\n",
       "gravidade_lesao             1030387\n",
       "tipo_de vítima               992638\n",
       "faixa_etaria_demografica    1030387\n",
       "faixa_etaria_legal          1030387\n",
       "profissao                    852894\n",
       "data_sinistro               1030387\n",
       "ano_sinistro                1030387\n",
       "mes_sinistro                1030387\n",
       "dia_sinistro                1030387\n",
       "ano_mes_sinistro            1030387\n",
       "ano_obito                     58157\n",
       "mes_obito                     58157\n",
       "dia_obito                     58157\n",
       "ano_mes_obito                 58157\n",
       "dtype: int64"
      ]
     },
     "execution_count": 7,
     "metadata": {},
     "output_type": "execute_result"
    }
   ],
   "source": [
    "df.count()"
   ]
  },
  {
   "cell_type": "code",
   "execution_count": 30,
   "id": "97abb039-1e9b-4a63-a674-c9f8c0c43989",
   "metadata": {},
   "outputs": [
    {
     "data": {
      "text/plain": [
       "id_sinistro                      0\n",
       "municipio                        0\n",
       "tipo_via                         0\n",
       "tipo_veiculo_vitima         972223\n",
       "sexo                             0\n",
       "idade                            0\n",
       "gravidade_lesao                  0\n",
       "tipo_vitima                      0\n",
       "faixa_etaria_demografica         0\n",
       "faixa_etaria_legal               0\n",
       "profissao                        0\n",
       "ano_sinistro                     0\n",
       "mes_sinistro                     0\n",
       "dia_sinistro                     0\n",
       "ano_obito                   972223\n",
       "mes_obito                   972223\n",
       "dia_obito                   972223\n",
       "dtype: int64"
      ]
     },
     "execution_count": 30,
     "metadata": {},
     "output_type": "execute_result"
    }
   ],
   "source": [
    "df.isna().sum()"
   ]
  },
  {
   "cell_type": "code",
   "execution_count": 31,
   "id": "7c35fc25-d34b-4629-bd7a-c9a73502067e",
   "metadata": {},
   "outputs": [
    {
     "data": {
      "text/plain": [
       "972223"
      ]
     },
     "execution_count": 31,
     "metadata": {},
     "output_type": "execute_result"
    }
   ],
   "source": [
    "df[\"mes_obito\"].isna().sum()"
   ]
  },
  {
   "cell_type": "code",
   "execution_count": 50,
   "id": "f223c906-4b86-4d51-bc6d-bda2774b23bf",
   "metadata": {},
   "outputs": [
    {
     "data": {
      "text/plain": [
       "18-24             255250\n",
       "25-29             151949\n",
       "30-34             119825\n",
       "35-39             105705\n",
       "40-44              89427\n",
       "45-49              67832\n",
       "0-17               57686\n",
       "50-54              52030\n",
       "55-59              38858\n",
       "60-64              27391\n",
       "65-69              18895\n",
       "NAO DISPONIVEL     16687\n",
       "70-74              12662\n",
       "75-79               8355\n",
       "80 ou mais          7828\n",
       "Name: faixa_etaria_legal, dtype: int64"
      ]
     },
     "execution_count": 50,
     "metadata": {},
     "output_type": "execute_result"
    }
   ],
   "source": [
    "df[\"faixa_etaria_legal\"].value_counts()"
   ]
  },
  {
   "cell_type": "markdown",
   "id": "92428c25",
   "metadata": {},
   "source": [
    "## Removendo colunas e linhas\n",
    "Alguns dados da tabela estão com valores desnecessários pra análise"
   ]
  },
  {
   "cell_type": "markdown",
   "id": "4dfe5228",
   "metadata": {},
   "source": [
    "Verificando se todos os acidentes que são fatais contém data do óbito"
   ]
  },
  {
   "cell_type": "code",
   "execution_count": 11,
   "id": "4719dcc2-b430-4988-b9ad-55afb3f35b54",
   "metadata": {},
   "outputs": [
    {
     "data": {
      "text/plain": [
       "0"
      ]
     },
     "execution_count": 11,
     "metadata": {},
     "output_type": "execute_result"
    }
   ],
   "source": [
    "((df[\"gravidade_lesao\"] == \"FATAL\") & (df[\"data_obito\"].isna())).sum()"
   ]
  },
  {
   "cell_type": "markdown",
   "id": "024d55c9",
   "metadata": {},
   "source": [
    "Removendo colunas **ano_mes_obito, ano_mes_sinistro, data_obito** e **data_sinistro** pois são redundantes"
   ]
  },
  {
   "cell_type": "code",
   "execution_count": 12,
   "id": "dacd75cd-ff0f-4f23-9648-99cf517fe060",
   "metadata": {},
   "outputs": [],
   "source": [
    "df = df.drop(columns=[\"ano_mes_sinistro\", \"ano_mes_obito\", \"data_obito\", \"data_sinistro\"])"
   ]
  },
  {
   "cell_type": "markdown",
   "id": "fd2cf481",
   "metadata": {},
   "source": [
    "Removendo linhas com valor nulo nas colunas **municipio** e **tipo_via** "
   ]
  },
  {
   "cell_type": "code",
   "execution_count": 13,
   "id": "7a89c0d5-e248-4bbe-83a3-efc14222bbcf",
   "metadata": {},
   "outputs": [],
   "source": [
    "df = df.dropna(subset=[\"municipio\", \"tipo_via\"])"
   ]
  },
  {
   "cell_type": "markdown",
   "id": "90f833f7",
   "metadata": {},
   "source": [
    "Verificando se **faixa_etaria_demografica** e **faixa_etaria_legal** são redundantes"
   ]
  },
  {
   "cell_type": "code",
   "execution_count": 48,
   "id": "5c69a820",
   "metadata": {},
   "outputs": [
    {
     "name": "stdout",
     "output_type": "stream",
     "text": [
      "faixa demográfica: ['50 a 54' '85 a 89' '65 a 69' '40 a 44' '25 a 29' '60 a 64' '05 a 09'\n",
      " '30 a 34' '20 a 24' '15 a 19' '00 a 04' '70 a 74' '75 a 79'\n",
      " 'NAO DISPONIVEL' '35 a 39' '55 a 59' '45 a 49' '80 a 84' '10 a 14'\n",
      " '90 e +']\n",
      "faixa legal: ['50-54' '80 ou mais' '65-69' '40-44' '25-29' '60-64' '0-17' '30-34'\n",
      " '18-24' '70-74' '75-79' 'NAO DISPONIVEL' '35-39' '55-59' '45-49']\n"
     ]
    }
   ],
   "source": [
    "print(\"faixa demográfica:\", df[\"faixa_etaria_demografica\"].unique())\n",
    "print(\"faixa legal:\", df[\"faixa_etaria_legal\"].unique())"
   ]
  },
  {
   "cell_type": "markdown",
   "id": "4a637ee5",
   "metadata": {},
   "source": [
    "Como os valores de ambas colunas são fortemente semelhantes optarei por manter apenas uma delas"
   ]
  },
  {
   "cell_type": "code",
   "execution_count": 51,
   "id": "54f4b8ef",
   "metadata": {},
   "outputs": [],
   "source": [
    "df = df.drop(\"faixa_etaria_demografica\", axis=1)"
   ]
  },
  {
   "cell_type": "markdown",
   "id": "50344264",
   "metadata": {},
   "source": [
    "## Renomeação e conversão de colunas e valores de linhas\n",
    "Muitos dados precisam ser tratados para poderem ser analisados mais apropriadamente"
   ]
  },
  {
   "cell_type": "markdown",
   "id": "52a2a210",
   "metadata": {},
   "source": [
    "Renomeando coluna **tipo_de vítima** para **tipo_vitima**"
   ]
  },
  {
   "cell_type": "code",
   "execution_count": 14,
   "id": "7be9a435-02e1-4afc-99bf-5cd3144d8563",
   "metadata": {},
   "outputs": [],
   "source": [
    "df = df.rename(columns={\"tipo_de vítima\": \"tipo_vitima\"})"
   ]
  },
  {
   "cell_type": "markdown",
   "id": "75a76e7b",
   "metadata": {},
   "source": [
    "Adicionando idade média nos valores nulos da coluna **idade** e renomeando valores nulos das colunas **profissao** e **tipo_vitima**"
   ]
  },
  {
   "cell_type": "code",
   "execution_count": 15,
   "id": "e16aa3cf-bed2-4c6e-bff8-a874e81aa9b0",
   "metadata": {},
   "outputs": [],
   "source": [
    "df[\"idade\"] = df[\"idade\"].fillna(df[\"idade\"].mean())\n",
    "df[\"profissao\"] = df[\"profissao\"].fillna(\"DESCONHECIDA\")\n",
    "df[\"tipo_vitima\"] = df[\"tipo_vitima\"].fillna(\"NAO DISPONIVEL\")"
   ]
  },
  {
   "cell_type": "markdown",
   "id": "e5a3f72e",
   "metadata": {},
   "source": [
    "Renomeando valores _nao disponivel_ da coluna **sexo** para _ignorado_"
   ]
  },
  {
   "cell_type": "code",
   "execution_count": 16,
   "id": "8a6f5456-0919-42e6-aefa-baa16dbbd374",
   "metadata": {},
   "outputs": [],
   "source": [
    "df[\"sexo\"] = df[\"sexo\"].replace({\"NAO DISPONIVEL\": \"IGNORADO\"})"
   ]
  },
  {
   "cell_type": "markdown",
   "id": "fb66ba06",
   "metadata": {},
   "source": [
    "Mudando tipo de dado das colunas **idade, mes_obito, mes_sinistro, ano_obito** e **dia_obito** de `float64` para `int64`"
   ]
  },
  {
   "cell_type": "code",
   "execution_count": 26,
   "id": "bacfb046",
   "metadata": {},
   "outputs": [],
   "source": [
    "df[\"idade\"] = df[\"idade\"].round().astype(\"Int64\")\n",
    "df[\"mes_sinistro\"] = df[\"mes_sinistro\"].astype(\"Int64\")\n",
    "df[\"mes_obito\"] = df[\"mes_obito\"].astype(\"Int64\")\n",
    "df[\"ano_obito\"] = df[\"ano_obito\"].astype(\"Int64\")\n",
    "df[\"dia_obito\"] = df[\"dia_obito\"].astype(\"Int64\")"
   ]
  },
  {
   "cell_type": "markdown",
   "id": "7d08dbde",
   "metadata": {},
   "source": [
    "mudando valores mensais das colunas **mes_sinistro** e **mes_obito** de numérico para texto"
   ]
  },
  {
   "cell_type": "code",
   "execution_count": 29,
   "id": "63e959ef",
   "metadata": {},
   "outputs": [],
   "source": [
    "month_convert = {\n",
    "    1: \"Janeiro\", 2: \"Fevereiro\", 3: \"Março\", 4: \"Abril\", 5: \"Maio\", 6: \"Junho\",\n",
    "    7: \"Julho\", 8: \"Agosto\", 9: \"Setembro\", 10: \"Outubro\", 11: \"Novemrbo\", 12: \"Dezembro\"\n",
    "}\n",
    "df[\"mes_obito\"] = df[\"mes_obito\"].astype(\"Int64\").map(month_convert)\n",
    "df[\"mes_sinistro\"] = df[\"mes_sinistro\"].astype(\"Int64\").map(month_convert)"
   ]
  },
  {
   "cell_type": "markdown",
   "id": "bbb79640",
   "metadata": {},
   "source": [
    "# Analise do CSV _sinistros_completo_ "
   ]
  },
  {
   "cell_type": "code",
   "execution_count": 3,
   "id": "82b8da6d",
   "metadata": {},
   "outputs": [],
   "source": [
    "df = pd.read_csv(\"../data/sinistros_completo.csv\")"
   ]
  },
  {
   "cell_type": "code",
   "execution_count": 9,
   "id": "2d3b4601",
   "metadata": {},
   "outputs": [
    {
     "data": {
      "text/plain": [
       "id_sinistro                        1240943\n",
       "tipo_registro                      1240943\n",
       "data_sinistro                      1240943\n",
       "ano_sinistro                       1240943\n",
       "mes_sinistro                       1240943\n",
       "dia_sinistro                       1240943\n",
       "ano_mes_sinistro                   1240943\n",
       "hora_sinistro                      1237540\n",
       "logradouro                         1237740\n",
       "numero_logradouro                  1231393\n",
       "tipo_via                           1240943\n",
       "latitude                           1234042\n",
       "longitude                          1234043\n",
       "municipio                          1240936\n",
       "regiao_administrativa              1240936\n",
       "tp_veiculo_bicicleta                 30757\n",
       "tp_veiculo_caminhao                  50243\n",
       "tp_veiculo_motocicleta              483506\n",
       "tp_veiculo_nao_disponivel           143726\n",
       "tp_veiculo_onibus                    30573\n",
       "tp_veiculo_outros                    27729\n",
       "tp_veiculo_automovel                512769\n",
       "gravidade_nao_disponivel            109161\n",
       "gravidade_leve                      585050\n",
       "gravidade_fatal                      48167\n",
       "gravidade_ileso                          0\n",
       "gravidade_grave                      68404\n",
       "administracao                      1236403\n",
       "conservacao                        1236403\n",
       "jurisdicao                         1236403\n",
       "tipo_acidente_primario             1240943\n",
       "tp_sinistro_atropelamento           117179\n",
       "tp_sinistro_colisao_frontal         154185\n",
       "tp_sinistro_colisao_traseira             0\n",
       "tp_sinistro_colisao_lateral         255232\n",
       "tp_sinistro_colisao_transversal     150570\n",
       "tp_sinistro_colisao_outros            8610\n",
       "tp_sinistro_choque                   91996\n",
       "tp_sinistro_capotamento              27522\n",
       "tp_sinistro_engavetamento             7309\n",
       "tp_sinistro_tombamento               77604\n",
       "tp_sinistro_outros                  597890\n",
       "tp_sinistro_nao_disponivel          214023\n",
       "dtype: int64"
      ]
     },
     "execution_count": 9,
     "metadata": {},
     "output_type": "execute_result"
    }
   ],
   "source": [
    "df.count()"
   ]
  },
  {
   "cell_type": "code",
   "execution_count": 16,
   "id": "be5da931",
   "metadata": {},
   "outputs": [
    {
     "data": {
      "text/plain": [
       "S    154185\n",
       "Name: tp_sinistro_colisao_frontal, dtype: int64"
      ]
     },
     "execution_count": 16,
     "metadata": {},
     "output_type": "execute_result"
    }
   ],
   "source": [
    "df[\"tp_sinistro_colisao_frontal\"].value_counts()"
   ]
  },
  {
   "cell_type": "markdown",
   "id": "da5c582a",
   "metadata": {},
   "source": [
    "Criar CSV com o dataset"
   ]
  },
  {
   "cell_type": "code",
   "execution_count": 18,
   "id": "c59e38b6",
   "metadata": {},
   "outputs": [],
   "source": [
    "#df.to_csv(\"pessoas_completo_limpo.csv\", index=False)"
   ]
  }
 ],
 "metadata": {
  "kernelspec": {
   "display_name": "Python 3 (ipykernel)",
   "language": "python",
   "name": "python3"
  },
  "language_info": {
   "codemirror_mode": {
    "name": "ipython",
    "version": 3
   },
   "file_extension": ".py",
   "mimetype": "text/x-python",
   "name": "python",
   "nbconvert_exporter": "python",
   "pygments_lexer": "ipython3",
   "version": "3.11.2"
  }
 },
 "nbformat": 4,
 "nbformat_minor": 5
}
