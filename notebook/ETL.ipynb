{
 "cells": [
  {
   "cell_type": "code",
   "execution_count": 1,
   "id": "9b5d09a6-1835-40eb-8d74-7e18ee859fc8",
   "metadata": {},
   "outputs": [
    {
     "name": "stdout",
     "output_type": "stream",
     "text": [
      "Fala\n"
     ]
    }
   ],
   "source": [
    "print(\"Fala\")"
   ]
  },
  {
   "cell_type": "code",
   "execution_count": 2,
   "id": "8dcedd15-0df0-473c-a485-f9482964fc32",
   "metadata": {},
   "outputs": [],
   "source": [
    "import pandas as pd"
   ]
  },
  {
   "cell_type": "code",
   "execution_count": 3,
   "id": "8759d0fc-5f26-4675-9b89-6f205cfc7129",
   "metadata": {},
   "outputs": [],
   "source": [
    "df = pd.read_csv(\"../data/pessoas_completo.csv\")"
   ]
  },
  {
   "cell_type": "code",
   "execution_count": 36,
   "id": "e75b1549-fcbe-4dd2-ba09-95c95b9d2eb1",
   "metadata": {},
   "outputs": [
    {
     "name": "stdout",
     "output_type": "stream",
     "text": [
      "<class 'pandas.core.frame.DataFrame'>\n",
      "Int64Index: 1030380 entries, 0 to 1030386\n",
      "Data columns (total 19 columns):\n",
      " #   Column                    Non-Null Count    Dtype  \n",
      "---  ------                    --------------    -----  \n",
      " 0   id_sinistro               1030380 non-null  int64  \n",
      " 1   municipio                 1030380 non-null  object \n",
      " 2   tipo_via                  1030380 non-null  object \n",
      " 3   tipo_veiculo_vitima       58157 non-null    object \n",
      " 4   sexo                      1030380 non-null  object \n",
      " 5   idade                     1030380 non-null  int64  \n",
      " 6   data_obito                58157 non-null    object \n",
      " 7   gravidade_lesao           1030380 non-null  object \n",
      " 8   tipo_vitima               1030380 non-null  object \n",
      " 9   faixa_etaria_demografica  1030380 non-null  object \n",
      " 10  faixa_etaria_legal        1030380 non-null  object \n",
      " 11  profissao                 1030380 non-null  object \n",
      " 12  data_sinistro             1030380 non-null  object \n",
      " 13  ano_sinistro              1030380 non-null  int64  \n",
      " 14  mes_sinistro              1030380 non-null  int64  \n",
      " 15  dia_sinistro              1030380 non-null  int64  \n",
      " 16  ano_obito                 58157 non-null    float64\n",
      " 17  mes_obito                 1030380 non-null  int64  \n",
      " 18  dia_obito                 58157 non-null    float64\n",
      "dtypes: float64(2), int64(6), object(11)\n",
      "memory usage: 157.2+ MB\n"
     ]
    }
   ],
   "source": [
    "df.info()"
   ]
  },
  {
   "cell_type": "code",
   "execution_count": 9,
   "id": "6e842e51-0f41-4839-8808-3079ca3388c6",
   "metadata": {},
   "outputs": [
    {
     "data": {
      "text/html": [
       "<div>\n",
       "<style scoped>\n",
       "    .dataframe tbody tr th:only-of-type {\n",
       "        vertical-align: middle;\n",
       "    }\n",
       "\n",
       "    .dataframe tbody tr th {\n",
       "        vertical-align: top;\n",
       "    }\n",
       "\n",
       "    .dataframe thead th {\n",
       "        text-align: right;\n",
       "    }\n",
       "</style>\n",
       "<table border=\"1\" class=\"dataframe\">\n",
       "  <thead>\n",
       "    <tr style=\"text-align: right;\">\n",
       "      <th></th>\n",
       "      <th>id_sinistro</th>\n",
       "      <th>idade</th>\n",
       "      <th>ano_sinistro</th>\n",
       "      <th>mes_sinistro</th>\n",
       "      <th>dia_sinistro</th>\n",
       "      <th>ano_obito</th>\n",
       "      <th>mes_obito</th>\n",
       "      <th>dia_obito</th>\n",
       "    </tr>\n",
       "  </thead>\n",
       "  <tbody>\n",
       "    <tr>\n",
       "      <th>count</th>\n",
       "      <td>1.030387e+06</td>\n",
       "      <td>1.013700e+06</td>\n",
       "      <td>1.030387e+06</td>\n",
       "      <td>1.030387e+06</td>\n",
       "      <td>1.030387e+06</td>\n",
       "      <td>58157.000000</td>\n",
       "      <td>58157.000000</td>\n",
       "      <td>58157.000000</td>\n",
       "    </tr>\n",
       "    <tr>\n",
       "      <th>mean</th>\n",
       "      <td>1.943842e+06</td>\n",
       "      <td>3.444966e+01</td>\n",
       "      <td>2.021658e+03</td>\n",
       "      <td>6.499242e+00</td>\n",
       "      <td>1.560665e+01</td>\n",
       "      <td>2019.789501</td>\n",
       "      <td>6.497257</td>\n",
       "      <td>15.580119</td>\n",
       "    </tr>\n",
       "    <tr>\n",
       "      <th>std</th>\n",
       "      <td>3.947906e+05</td>\n",
       "      <td>1.510009e+01</td>\n",
       "      <td>2.027790e+00</td>\n",
       "      <td>3.376548e+00</td>\n",
       "      <td>8.735699e+00</td>\n",
       "      <td>3.169683</td>\n",
       "      <td>3.378640</td>\n",
       "      <td>8.779323</td>\n",
       "    </tr>\n",
       "    <tr>\n",
       "      <th>min</th>\n",
       "      <td>1.256212e+06</td>\n",
       "      <td>0.000000e+00</td>\n",
       "      <td>2.014000e+03</td>\n",
       "      <td>1.000000e+00</td>\n",
       "      <td>1.000000e+00</td>\n",
       "      <td>2015.000000</td>\n",
       "      <td>1.000000</td>\n",
       "      <td>1.000000</td>\n",
       "    </tr>\n",
       "    <tr>\n",
       "      <th>25%</th>\n",
       "      <td>1.602038e+06</td>\n",
       "      <td>2.300000e+01</td>\n",
       "      <td>2.020000e+03</td>\n",
       "      <td>4.000000e+00</td>\n",
       "      <td>8.000000e+00</td>\n",
       "      <td>2017.000000</td>\n",
       "      <td>4.000000</td>\n",
       "      <td>8.000000</td>\n",
       "    </tr>\n",
       "    <tr>\n",
       "      <th>50%</th>\n",
       "      <td>1.943348e+06</td>\n",
       "      <td>3.100000e+01</td>\n",
       "      <td>2.022000e+03</td>\n",
       "      <td>6.000000e+00</td>\n",
       "      <td>1.600000e+01</td>\n",
       "      <td>2020.000000</td>\n",
       "      <td>6.000000</td>\n",
       "      <td>16.000000</td>\n",
       "    </tr>\n",
       "    <tr>\n",
       "      <th>75%</th>\n",
       "      <td>2.278146e+06</td>\n",
       "      <td>4.300000e+01</td>\n",
       "      <td>2.023000e+03</td>\n",
       "      <td>9.000000e+00</td>\n",
       "      <td>2.300000e+01</td>\n",
       "      <td>2023.000000</td>\n",
       "      <td>9.000000</td>\n",
       "      <td>23.000000</td>\n",
       "    </tr>\n",
       "    <tr>\n",
       "      <th>max</th>\n",
       "      <td>2.644715e+06</td>\n",
       "      <td>2.700000e+02</td>\n",
       "      <td>2.025000e+03</td>\n",
       "      <td>1.200000e+01</td>\n",
       "      <td>3.100000e+01</td>\n",
       "      <td>2025.000000</td>\n",
       "      <td>12.000000</td>\n",
       "      <td>31.000000</td>\n",
       "    </tr>\n",
       "  </tbody>\n",
       "</table>\n",
       "</div>"
      ],
      "text/plain": [
       "        id_sinistro         idade  ano_sinistro  mes_sinistro  dia_sinistro  \\\n",
       "count  1.030387e+06  1.013700e+06  1.030387e+06  1.030387e+06  1.030387e+06   \n",
       "mean   1.943842e+06  3.444966e+01  2.021658e+03  6.499242e+00  1.560665e+01   \n",
       "std    3.947906e+05  1.510009e+01  2.027790e+00  3.376548e+00  8.735699e+00   \n",
       "min    1.256212e+06  0.000000e+00  2.014000e+03  1.000000e+00  1.000000e+00   \n",
       "25%    1.602038e+06  2.300000e+01  2.020000e+03  4.000000e+00  8.000000e+00   \n",
       "50%    1.943348e+06  3.100000e+01  2.022000e+03  6.000000e+00  1.600000e+01   \n",
       "75%    2.278146e+06  4.300000e+01  2.023000e+03  9.000000e+00  2.300000e+01   \n",
       "max    2.644715e+06  2.700000e+02  2.025000e+03  1.200000e+01  3.100000e+01   \n",
       "\n",
       "          ano_obito     mes_obito     dia_obito  \n",
       "count  58157.000000  58157.000000  58157.000000  \n",
       "mean    2019.789501      6.497257     15.580119  \n",
       "std        3.169683      3.378640      8.779323  \n",
       "min     2015.000000      1.000000      1.000000  \n",
       "25%     2017.000000      4.000000      8.000000  \n",
       "50%     2020.000000      6.000000     16.000000  \n",
       "75%     2023.000000      9.000000     23.000000  \n",
       "max     2025.000000     12.000000     31.000000  "
      ]
     },
     "execution_count": 9,
     "metadata": {},
     "output_type": "execute_result"
    }
   ],
   "source": [
    "df.describe()"
   ]
  },
  {
   "cell_type": "code",
   "execution_count": 5,
   "id": "c01e52ae-62c9-470b-81b4-191f7f9433c9",
   "metadata": {},
   "outputs": [
    {
     "data": {
      "text/html": [
       "<div>\n",
       "<style scoped>\n",
       "    .dataframe tbody tr th:only-of-type {\n",
       "        vertical-align: middle;\n",
       "    }\n",
       "\n",
       "    .dataframe tbody tr th {\n",
       "        vertical-align: top;\n",
       "    }\n",
       "\n",
       "    .dataframe thead th {\n",
       "        text-align: right;\n",
       "    }\n",
       "</style>\n",
       "<table border=\"1\" class=\"dataframe\">\n",
       "  <thead>\n",
       "    <tr style=\"text-align: right;\">\n",
       "      <th></th>\n",
       "      <th>id_sinistro</th>\n",
       "      <th>municipio</th>\n",
       "      <th>tipo_via</th>\n",
       "      <th>tipo_veiculo_vitima</th>\n",
       "      <th>sexo</th>\n",
       "      <th>idade</th>\n",
       "      <th>data_obito</th>\n",
       "      <th>gravidade_lesao</th>\n",
       "      <th>tipo_de vítima</th>\n",
       "      <th>faixa_etaria_demografica</th>\n",
       "      <th>...</th>\n",
       "      <th>profissao</th>\n",
       "      <th>data_sinistro</th>\n",
       "      <th>ano_sinistro</th>\n",
       "      <th>mes_sinistro</th>\n",
       "      <th>dia_sinistro</th>\n",
       "      <th>ano_mes_sinistro</th>\n",
       "      <th>ano_obito</th>\n",
       "      <th>mes_obito</th>\n",
       "      <th>dia_obito</th>\n",
       "      <th>ano_mes_obito</th>\n",
       "    </tr>\n",
       "  </thead>\n",
       "  <tbody>\n",
       "    <tr>\n",
       "      <th>0</th>\n",
       "      <td>2463323</td>\n",
       "      <td>SAO PAULO</td>\n",
       "      <td>VIAS MUNICIPAIS</td>\n",
       "      <td>PEDESTRE</td>\n",
       "      <td>MASCULINO</td>\n",
       "      <td>51.0</td>\n",
       "      <td>01/01/2015</td>\n",
       "      <td>FATAL</td>\n",
       "      <td>PEDESTRE</td>\n",
       "      <td>50 a 54</td>\n",
       "      <td>...</td>\n",
       "      <td>NaN</td>\n",
       "      <td>01/01/2015</td>\n",
       "      <td>2015</td>\n",
       "      <td>1</td>\n",
       "      <td>1</td>\n",
       "      <td>2015/01</td>\n",
       "      <td>2015.0</td>\n",
       "      <td>1.0</td>\n",
       "      <td>1.0</td>\n",
       "      <td>2015/01</td>\n",
       "    </tr>\n",
       "    <tr>\n",
       "      <th>1</th>\n",
       "      <td>2465127</td>\n",
       "      <td>SAO PAULO</td>\n",
       "      <td>VIAS MUNICIPAIS</td>\n",
       "      <td>PEDESTRE</td>\n",
       "      <td>MASCULINO</td>\n",
       "      <td>89.0</td>\n",
       "      <td>03/01/2015</td>\n",
       "      <td>FATAL</td>\n",
       "      <td>PEDESTRE</td>\n",
       "      <td>85 a 89</td>\n",
       "      <td>...</td>\n",
       "      <td>NaN</td>\n",
       "      <td>03/01/2015</td>\n",
       "      <td>2015</td>\n",
       "      <td>1</td>\n",
       "      <td>3</td>\n",
       "      <td>2015/01</td>\n",
       "      <td>2015.0</td>\n",
       "      <td>1.0</td>\n",
       "      <td>3.0</td>\n",
       "      <td>2015/01</td>\n",
       "    </tr>\n",
       "    <tr>\n",
       "      <th>2</th>\n",
       "      <td>2462123</td>\n",
       "      <td>SAO PAULO</td>\n",
       "      <td>VIAS MUNICIPAIS</td>\n",
       "      <td>PEDESTRE</td>\n",
       "      <td>MASCULINO</td>\n",
       "      <td>67.0</td>\n",
       "      <td>05/01/2015</td>\n",
       "      <td>FATAL</td>\n",
       "      <td>PEDESTRE</td>\n",
       "      <td>65 a 69</td>\n",
       "      <td>...</td>\n",
       "      <td>NaN</td>\n",
       "      <td>05/01/2015</td>\n",
       "      <td>2015</td>\n",
       "      <td>1</td>\n",
       "      <td>5</td>\n",
       "      <td>2015/01</td>\n",
       "      <td>2015.0</td>\n",
       "      <td>1.0</td>\n",
       "      <td>5.0</td>\n",
       "      <td>2015/01</td>\n",
       "    </tr>\n",
       "    <tr>\n",
       "      <th>3</th>\n",
       "      <td>2506869</td>\n",
       "      <td>MOGI GUACU</td>\n",
       "      <td>VIAS MUNICIPAIS</td>\n",
       "      <td>NAO DISPONIVEL</td>\n",
       "      <td>NAO DISPONIVEL</td>\n",
       "      <td>44.0</td>\n",
       "      <td>09/01/2015</td>\n",
       "      <td>FATAL</td>\n",
       "      <td>NAO DISPONIVEL</td>\n",
       "      <td>40 a 44</td>\n",
       "      <td>...</td>\n",
       "      <td>NaN</td>\n",
       "      <td>09/01/2015</td>\n",
       "      <td>2015</td>\n",
       "      <td>1</td>\n",
       "      <td>9</td>\n",
       "      <td>2015/01</td>\n",
       "      <td>2015.0</td>\n",
       "      <td>1.0</td>\n",
       "      <td>9.0</td>\n",
       "      <td>2015/01</td>\n",
       "    </tr>\n",
       "    <tr>\n",
       "      <th>4</th>\n",
       "      <td>2490194</td>\n",
       "      <td>COTIA</td>\n",
       "      <td>RODOVIAS</td>\n",
       "      <td>AUTOMOVEL</td>\n",
       "      <td>MASCULINO</td>\n",
       "      <td>28.0</td>\n",
       "      <td>11/01/2015</td>\n",
       "      <td>FATAL</td>\n",
       "      <td>CONDUTOR</td>\n",
       "      <td>25 a 29</td>\n",
       "      <td>...</td>\n",
       "      <td>NaN</td>\n",
       "      <td>11/01/2015</td>\n",
       "      <td>2015</td>\n",
       "      <td>1</td>\n",
       "      <td>11</td>\n",
       "      <td>2015/01</td>\n",
       "      <td>2015.0</td>\n",
       "      <td>1.0</td>\n",
       "      <td>11.0</td>\n",
       "      <td>2015/01</td>\n",
       "    </tr>\n",
       "  </tbody>\n",
       "</table>\n",
       "<p>5 rows × 21 columns</p>\n",
       "</div>"
      ],
      "text/plain": [
       "   id_sinistro   municipio         tipo_via tipo_veiculo_vitima  \\\n",
       "0      2463323   SAO PAULO  VIAS MUNICIPAIS            PEDESTRE   \n",
       "1      2465127   SAO PAULO  VIAS MUNICIPAIS            PEDESTRE   \n",
       "2      2462123   SAO PAULO  VIAS MUNICIPAIS            PEDESTRE   \n",
       "3      2506869  MOGI GUACU  VIAS MUNICIPAIS      NAO DISPONIVEL   \n",
       "4      2490194       COTIA         RODOVIAS           AUTOMOVEL   \n",
       "\n",
       "             sexo  idade  data_obito gravidade_lesao  tipo_de vítima  \\\n",
       "0       MASCULINO   51.0  01/01/2015           FATAL        PEDESTRE   \n",
       "1       MASCULINO   89.0  03/01/2015           FATAL        PEDESTRE   \n",
       "2       MASCULINO   67.0  05/01/2015           FATAL        PEDESTRE   \n",
       "3  NAO DISPONIVEL   44.0  09/01/2015           FATAL  NAO DISPONIVEL   \n",
       "4       MASCULINO   28.0  11/01/2015           FATAL        CONDUTOR   \n",
       "\n",
       "  faixa_etaria_demografica  ... profissao data_sinistro ano_sinistro  \\\n",
       "0                  50 a 54  ...       NaN    01/01/2015         2015   \n",
       "1                  85 a 89  ...       NaN    03/01/2015         2015   \n",
       "2                  65 a 69  ...       NaN    05/01/2015         2015   \n",
       "3                  40 a 44  ...       NaN    09/01/2015         2015   \n",
       "4                  25 a 29  ...       NaN    11/01/2015         2015   \n",
       "\n",
       "   mes_sinistro  dia_sinistro  ano_mes_sinistro ano_obito  mes_obito  \\\n",
       "0             1             1           2015/01    2015.0        1.0   \n",
       "1             1             3           2015/01    2015.0        1.0   \n",
       "2             1             5           2015/01    2015.0        1.0   \n",
       "3             1             9           2015/01    2015.0        1.0   \n",
       "4             1            11           2015/01    2015.0        1.0   \n",
       "\n",
       "   dia_obito  ano_mes_obito  \n",
       "0        1.0        2015/01  \n",
       "1        3.0        2015/01  \n",
       "2        5.0        2015/01  \n",
       "3        9.0        2015/01  \n",
       "4       11.0        2015/01  \n",
       "\n",
       "[5 rows x 21 columns]"
      ]
     },
     "execution_count": 5,
     "metadata": {},
     "output_type": "execute_result"
    }
   ],
   "source": [
    "df.head()"
   ]
  },
  {
   "cell_type": "code",
   "execution_count": 17,
   "id": "bbc2eb4a-a47c-4b77-b867-d203ed72e668",
   "metadata": {},
   "outputs": [
    {
     "data": {
      "text/plain": [
       "id_sinistro                 1030380\n",
       "municipio                   1030380\n",
       "tipo_via                    1030380\n",
       "tipo_veiculo_vitima           58157\n",
       "sexo                        1030380\n",
       "idade                       1030380\n",
       "data_obito                    58157\n",
       "gravidade_lesao             1030380\n",
       "tipo_vitima                  992631\n",
       "faixa_etaria_demografica    1030380\n",
       "faixa_etaria_legal          1030380\n",
       "profissao                   1030380\n",
       "data_sinistro               1030380\n",
       "ano_sinistro                1030380\n",
       "mes_sinistro                1030380\n",
       "dia_sinistro                1030380\n",
       "ano_obito                     58157\n",
       "mes_obito                     58157\n",
       "dia_obito                     58157\n",
       "dtype: int64"
      ]
     },
     "execution_count": 17,
     "metadata": {},
     "output_type": "execute_result"
    }
   ],
   "source": [
    "df.count()"
   ]
  },
  {
   "cell_type": "code",
   "execution_count": 27,
   "id": "97abb039-1e9b-4a63-a674-c9f8c0c43989",
   "metadata": {},
   "outputs": [
    {
     "data": {
      "text/plain": [
       "id_sinistro                      0\n",
       "municipio                        0\n",
       "tipo_via                         0\n",
       "tipo_veiculo_vitima         972223\n",
       "sexo                             0\n",
       "idade                            0\n",
       "data_obito                  972223\n",
       "gravidade_lesao                  0\n",
       "tipo_vitima                      0\n",
       "faixa_etaria_demografica         0\n",
       "faixa_etaria_legal               0\n",
       "profissao                        0\n",
       "data_sinistro                    0\n",
       "ano_sinistro                     0\n",
       "mes_sinistro                     0\n",
       "dia_sinistro                     0\n",
       "ano_obito                   972223\n",
       "mes_obito                   972223\n",
       "dia_obito                   972223\n",
       "dtype: int64"
      ]
     },
     "execution_count": 27,
     "metadata": {},
     "output_type": "execute_result"
    }
   ],
   "source": [
    "df.isna().sum()"
   ]
  },
  {
   "cell_type": "markdown",
   "id": "bccaab4c",
   "metadata": {},
   "source": [
    "# Análise do CSV _pessoas_completo_"
   ]
  },
  {
   "cell_type": "code",
   "execution_count": 34,
   "id": "7c35fc25-d34b-4629-bd7a-c9a73502067e",
   "metadata": {},
   "outputs": [
    {
     "data": {
      "text/plain": [
       "972223"
      ]
     },
     "execution_count": 34,
     "metadata": {},
     "output_type": "execute_result"
    }
   ],
   "source": [
    "df[\"mes_obito\"].isna().sum()"
   ]
  },
  {
   "cell_type": "code",
   "execution_count": 32,
   "id": "f223c906-4b86-4d51-bc6d-bda2774b23bf",
   "metadata": {},
   "outputs": [
    {
     "data": {
      "text/plain": [
       "7.0     5431\n",
       "5.0     5391\n",
       "6.0     5199\n",
       "3.0     5102\n",
       "12.0    4879\n",
       "4.0     4873\n",
       "10.0    4812\n",
       "8.0     4704\n",
       "9.0     4688\n",
       "1.0     4487\n",
       "11.0    4304\n",
       "2.0     4287\n",
       "Name: mes_obito, dtype: int64"
      ]
     },
     "execution_count": 32,
     "metadata": {},
     "output_type": "execute_result"
    }
   ],
   "source": [
    "df[\"mes_obito\"].value_counts()"
   ]
  },
  {
   "cell_type": "markdown",
   "id": "92428c25",
   "metadata": {},
   "source": [
    "## Removendo colunas e linhas\n",
    "Alguns dados da tabela estão com valores desnecessários pra análise"
   ]
  },
  {
   "cell_type": "markdown",
   "id": "903b5d60",
   "metadata": {},
   "source": [
    "Remover colunas **ano_mes_obito** e **ano_mes_sinistro** pois são redundantes"
   ]
  },
  {
   "cell_type": "code",
   "execution_count": 9,
   "id": "dacd75cd-ff0f-4f23-9648-99cf517fe060",
   "metadata": {},
   "outputs": [],
   "source": [
    "df = df.drop(columns=[\"ano_mes_sinistro\", \"ano_mes_obito\"])"
   ]
  },
  {
   "cell_type": "markdown",
   "id": "fd2cf481",
   "metadata": {},
   "source": [
    "Remover linhas com valor nulo nas colunas **municipio** e **tipo_via** "
   ]
  },
  {
   "cell_type": "code",
   "execution_count": 13,
   "id": "7a89c0d5-e248-4bbe-83a3-efc14222bbcf",
   "metadata": {},
   "outputs": [],
   "source": [
    "df = df.dropna(subset=[\"municipio\", \"tipo_via\"])"
   ]
  },
  {
   "cell_type": "markdown",
   "id": "4dfe5228",
   "metadata": {},
   "source": [
    "Verificação se todos os acidentes que são fatais contém data do óbito"
   ]
  },
  {
   "cell_type": "code",
   "execution_count": 11,
   "id": "4719dcc2-b430-4988-b9ad-55afb3f35b54",
   "metadata": {},
   "outputs": [
    {
     "data": {
      "text/plain": [
       "0"
      ]
     },
     "execution_count": 11,
     "metadata": {},
     "output_type": "execute_result"
    }
   ],
   "source": [
    "((df[\"gravidade_lesao\"] == \"FATAL\") & (df[\"data_obito\"].isna())).sum()"
   ]
  },
  {
   "cell_type": "markdown",
   "id": "50344264",
   "metadata": {},
   "source": [
    "## Renomeação e conversão de colunas e valores de linhas\n",
    "Muitos dados precisam ser tratados para poderem ser analisados mais apropriadamente"
   ]
  },
  {
   "cell_type": "markdown",
   "id": "52a2a210",
   "metadata": {},
   "source": [
    "Renomeando coluna **tipo_de vítima** para **tipo_vitima**"
   ]
  },
  {
   "cell_type": "code",
   "execution_count": 8,
   "id": "7be9a435-02e1-4afc-99bf-5cd3144d8563",
   "metadata": {},
   "outputs": [],
   "source": [
    "df = df.rename(columns={\"tipo_de vítima\": \"tipo_vitima\"})"
   ]
  },
  {
   "cell_type": "markdown",
   "id": "75a76e7b",
   "metadata": {},
   "source": [
    "Adicionando idade média nos valores nulos da coluna **idade** e renomeando valores nulos das colunas **profissao** e **tipo_vitima**"
   ]
  },
  {
   "cell_type": "code",
   "execution_count": 26,
   "id": "e16aa3cf-bed2-4c6e-bff8-a874e81aa9b0",
   "metadata": {},
   "outputs": [],
   "source": [
    "df[\"idade\"] = df[\"idade\"].fillna(df[\"idade\"].mean())\n",
    "df[\"profissao\"] = df[\"profissao\"].fillna(\"DESCONHECIDA\")\n",
    "df[\"tipo_vitima\"] = df[\"tipo_vitima\"].fillna(\"NAO DISPONIVEL\")"
   ]
  },
  {
   "cell_type": "markdown",
   "id": "e5a3f72e",
   "metadata": {},
   "source": [
    "Renomeando valores _nao disponivel_ da coluna **sexo** para _ignorado_"
   ]
  },
  {
   "cell_type": "code",
   "execution_count": 15,
   "id": "8a6f5456-0919-42e6-aefa-baa16dbbd374",
   "metadata": {},
   "outputs": [],
   "source": [
    "df[\"sexo\"] = df[\"sexo\"].replace({\"NAO DISPONIVEL\": \"IGNORADO\"})"
   ]
  },
  {
   "cell_type": "markdown",
   "id": "fb66ba06",
   "metadata": {},
   "source": [
    "Mudando tipo de dado das colunas **idade, mes_obito** e **mes_sinistro** de `float64` para `int64`"
   ]
  },
  {
   "cell_type": "code",
   "execution_count": 35,
   "id": "bacfb046",
   "metadata": {},
   "outputs": [],
   "source": [
    "df[\"idade\"] = df[\"idade\"].astype(\"int64\")\n",
    "df[\"mes_sinistro\"] = df[\"mes_sinistro\"].astype(\"int64\")\n",
    "df[\"mes_obito\"] = df[\"mes_obito\"].notna().astype(\"int64\")"
   ]
  },
  {
   "cell_type": "markdown",
   "id": "da5c582a",
   "metadata": {},
   "source": [
    "Criar CSV com o dataset"
   ]
  },
  {
   "cell_type": "code",
   "execution_count": null,
   "id": "780c4aa0-a228-4ffa-966d-62a421d40fdf",
   "metadata": {},
   "outputs": [],
   "source": [
    "df.to_csv(\"pessoas_completo_limpo.csv\", index=False)"
   ]
  }
 ],
 "metadata": {
  "kernelspec": {
   "display_name": "Python 3 (ipykernel)",
   "language": "python",
   "name": "python3"
  },
  "language_info": {
   "codemirror_mode": {
    "name": "ipython",
    "version": 3
   },
   "file_extension": ".py",
   "mimetype": "text/x-python",
   "name": "python",
   "nbconvert_exporter": "python",
   "pygments_lexer": "ipython3",
   "version": "3.11.2"
  }
 },
 "nbformat": 4,
 "nbformat_minor": 5
}
